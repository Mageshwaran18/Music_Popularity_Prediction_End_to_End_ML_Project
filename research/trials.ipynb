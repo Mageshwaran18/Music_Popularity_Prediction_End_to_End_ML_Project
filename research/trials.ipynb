{
 "cells": [
  {
   "cell_type": "markdown",
   "metadata": {},
   "source": [
    "<h2>Folders ,  Files and their uses </h2>\n",
    "\n",
    "1. Constants are used to store the file paths of config.yaml , schema.yaml , params.yaml . They're defined in the constructor of the constants file"
   ]
  },
  {
   "cell_type": "markdown",
   "metadata": {},
   "source": [
    "Utils: common.py -> Used to store functions or blocks of code that are repeatedly called in the project."
   ]
  },
  {
   "cell_type": "markdown",
   "metadata": {},
   "source": [
    "<h2>ConfigBox</h2>\n",
    "<p>We use read_yaml function to read the the configuration file which is a yaml file . On loading the yaml file , the values are returned in the format of dictionary. So configBox from the Box package are used to handle the dictionary values very easyly .</p>"
   ]
  },
  {
   "cell_type": "code",
   "execution_count": 1,
   "metadata": {},
   "outputs": [
    {
     "name": "stdout",
     "output_type": "stream",
     "text": [
      "value1\n"
     ]
    }
   ],
   "source": [
    "from box import ConfigBox \n",
    "dic={'key1':'value1','key2':'value2'}\n",
    "print(dic['key1'])"
   ]
  },
  {
   "cell_type": "code",
   "execution_count": 2,
   "metadata": {},
   "outputs": [
    {
     "data": {
      "text/plain": [
       "'value1'"
      ]
     },
     "execution_count": 2,
     "metadata": {},
     "output_type": "execute_result"
    }
   ],
   "source": [
    "dic=ConfigBox(dic)\n",
    "dic.key1"
   ]
  },
  {
   "cell_type": "markdown",
   "metadata": {},
   "source": [
    "<p>From the above code you can see that the normal dictionary requires paranthesis , keys inside the quotes to retrive the values of a key but using the configbox the steps are skipped . Henc accessing the key value pairs using Box library is efficient</p>"
   ]
  },
  {
   "cell_type": "markdown",
   "metadata": {},
   "source": [
    "<h2>Decorators</h2>\n",
    "<p>A decorator is essentially a function that takes another function (or method) as an argument, and returns a new function that adds some kind of functionality to the original function.</p>"
   ]
  },
  {
   "cell_type": "code",
   "execution_count": 3,
   "metadata": {},
   "outputs": [
    {
     "name": "stdout",
     "output_type": "stream",
     "text": [
      "Something is happening before the function is called.\n",
      "Hello!\n",
      "Something is happening after the function is called.\n"
     ]
    }
   ],
   "source": [
    "def my_decorator(func):\n",
    "    def wrapper():\n",
    "        print(\"Something is happening before the function is called.\")\n",
    "        func()\n",
    "        print(\"Something is happening after the function is called.\")\n",
    "    return wrapper\n",
    "@my_decorator\n",
    "def say_hello():\n",
    "    print(\"Hello!\")\n",
    "    \n",
    "say_hello()"
   ]
  },
  {
   "cell_type": "markdown",
   "metadata": {},
   "source": [
    "<p>The say_hello() function is decorated with the my_decorator function.\n",
    "As a result, the say_hello() function is wrapped with additional functionality defined in the my_decorator's wrapper function. \n",
    "When say_hello() is called, it executes the code in the wrapper function, which includes calls before and after the original say_hello() function.</p>"
   ]
  },
  {
   "cell_type": "code",
   "execution_count": 4,
   "metadata": {},
   "outputs": [
    {
     "data": {
      "text/plain": [
       "'33'"
      ]
     },
     "execution_count": 4,
     "metadata": {},
     "output_type": "execute_result"
    }
   ],
   "source": [
    "def product(x:int , y:int)-> int:\n",
    "    return x*y\n",
    "product(x=2,y='3')"
   ]
  },
  {
   "cell_type": "markdown",
   "metadata": {},
   "source": [
    "<p>In the above code, although we mentioned the data type as int, the user can enter a string value, and the function will still execute with the string. This can change the expected functionality of the function. To prevent and avoid these types of errors, we use type ensure annotations from the ensure library. ensure annotation help to indicate the expected data types for function arguments and return values, making the code more readable and helping tools like linters and IDEs catch type-related issues.</p>\n"
   ]
  },
  {
   "cell_type": "code",
   "execution_count": 5,
   "metadata": {},
   "outputs": [
    {
     "ename": "EnsureError",
     "evalue": "Argument y of type <class 'str'> to <function product at 0x00000259D302A200> does not match annotation type <class 'int'>",
     "output_type": "error",
     "traceback": [
      "\u001b[1;31m---------------------------------------------------------------------------\u001b[0m",
      "\u001b[1;31mEnsureError\u001b[0m                               Traceback (most recent call last)",
      "Cell \u001b[1;32mIn[5], line 6\u001b[0m\n\u001b[0;32m      3\u001b[0m \u001b[38;5;129m@ensure_annotations\u001b[39m\n\u001b[0;32m      4\u001b[0m \u001b[38;5;28;01mdef\u001b[39;00m \u001b[38;5;21mproduct\u001b[39m(x:\u001b[38;5;28mint\u001b[39m , y:\u001b[38;5;28mint\u001b[39m)\u001b[38;5;241m-\u001b[39m\u001b[38;5;241m>\u001b[39m \u001b[38;5;28mint\u001b[39m:\n\u001b[0;32m      5\u001b[0m     \u001b[38;5;28;01mreturn\u001b[39;00m x\u001b[38;5;241m*\u001b[39my\n\u001b[1;32m----> 6\u001b[0m product(x\u001b[38;5;241m=\u001b[39m\u001b[38;5;241m2\u001b[39m,y\u001b[38;5;241m=\u001b[39m\u001b[38;5;124m'\u001b[39m\u001b[38;5;124m3\u001b[39m\u001b[38;5;124m'\u001b[39m)\n",
      "File \u001b[1;32mc:\\Users\\Mageshwaran07\\anaconda3\\Lib\\site-packages\\ensure\\main.py:845\u001b[0m, in \u001b[0;36mWrappedFunctionReturn.__call__\u001b[1;34m(self, *args, **kwargs)\u001b[0m\n\u001b[0;32m    840\u001b[0m     \u001b[38;5;28;01mif\u001b[39;00m \u001b[38;5;129;01mnot\u001b[39;00m \u001b[38;5;28misinstance\u001b[39m(value, templ):\n\u001b[0;32m    841\u001b[0m         msg \u001b[38;5;241m=\u001b[39m (\n\u001b[0;32m    842\u001b[0m             \u001b[38;5;124m\"\u001b[39m\u001b[38;5;124mArgument \u001b[39m\u001b[38;5;132;01m{arg}\u001b[39;00m\u001b[38;5;124m of type \u001b[39m\u001b[38;5;132;01m{valt}\u001b[39;00m\u001b[38;5;124m to \u001b[39m\u001b[38;5;132;01m{f}\u001b[39;00m\u001b[38;5;124m \u001b[39m\u001b[38;5;124m\"\u001b[39m\n\u001b[0;32m    843\u001b[0m             \u001b[38;5;124m\"\u001b[39m\u001b[38;5;124mdoes not match annotation type \u001b[39m\u001b[38;5;132;01m{t}\u001b[39;00m\u001b[38;5;124m\"\u001b[39m\n\u001b[0;32m    844\u001b[0m         )\n\u001b[1;32m--> 845\u001b[0m         \u001b[38;5;28;01mraise\u001b[39;00m EnsureError(msg\u001b[38;5;241m.\u001b[39mformat(\n\u001b[0;32m    846\u001b[0m             arg\u001b[38;5;241m=\u001b[39marg, f\u001b[38;5;241m=\u001b[39m\u001b[38;5;28mself\u001b[39m\u001b[38;5;241m.\u001b[39mf, t\u001b[38;5;241m=\u001b[39mtempl, valt\u001b[38;5;241m=\u001b[39m\u001b[38;5;28mtype\u001b[39m(value)\n\u001b[0;32m    847\u001b[0m         ))\n\u001b[0;32m    849\u001b[0m return_val \u001b[38;5;241m=\u001b[39m \u001b[38;5;28mself\u001b[39m\u001b[38;5;241m.\u001b[39mf(\u001b[38;5;241m*\u001b[39margs, \u001b[38;5;241m*\u001b[39m\u001b[38;5;241m*\u001b[39mkwargs)\n\u001b[0;32m    850\u001b[0m \u001b[38;5;28;01mif\u001b[39;00m \u001b[38;5;129;01mnot\u001b[39;00m \u001b[38;5;28misinstance\u001b[39m(return_val, \u001b[38;5;28mself\u001b[39m\u001b[38;5;241m.\u001b[39mreturn_templ):\n",
      "\u001b[1;31mEnsureError\u001b[0m: Argument y of type <class 'str'> to <function product at 0x00000259D302A200> does not match annotation type <class 'int'>"
     ]
    }
   ],
   "source": [
    "from ensure import ensure_annotations\n",
    "\n",
    "@ensure_annotations\n",
    "def product(x:int , y:int)-> int:\n",
    "    return x*y\n",
    "product(x=2,y='3')"
   ]
  },
  {
   "cell_type": "markdown",
   "metadata": {},
   "source": [
    "<h1 align=\"center\">Day:3</h1>\n"
   ]
  },
  {
   "cell_type": "markdown",
   "metadata": {},
   "source": [
    "<h2>Data Ingestion</h2>\n",
    "<p>Data ingestion is the process of obtaining, importing, and processing data for later use or storage in a database. This process is a crucial first step in any data pipeline, ensuring that data is available for further analysis, transformation, and storage.</p>"
   ]
  },
  {
   "cell_type": "markdown",
   "metadata": {},
   "source": [
    "<p>Data ingestion can be done in many ways, but in this project, the data ingestion is done using GitHub.</p>\n",
    "\n",
    "<ol>\n",
    "    <li><strong>Upload the data:</strong> Upload the data to a GitHub repository in a zip file format.</li>\n",
    "    <li><strong>Write the data ingestion code:</strong> Write the data ingestion code in the <code>config.yaml</code> file to load and unzip the data.</li>\n",
    "</ol>"
   ]
  },
  {
   "cell_type": "markdown",
   "metadata": {},
   "source": [
    "<h3>Once the Data ingestion is done,follow the workflow in the readme file</h3>\n"
   ]
  },
  {
   "cell_type": "markdown",
   "metadata": {},
   "source": [
    "<h3>Update Schema.yaml</h3>\n",
    "<p>Define all the dependent and independent variables in the schema.yaml with the respective datatypes of the variables</p>"
   ]
  },
  {
   "cell_type": "markdown",
   "metadata": {},
   "source": [
    "<h3>Update params.yaml </h3>\n",
    "<p>Once the Schema.yaml is updated add some dummy values in the params.yaml ex: Key : value , So that it will not rise error untill we really use them.<p>"
   ]
  },
  {
   "cell_type": "markdown",
   "metadata": {},
   "source": [
    "<h3>Update Entity</h3>\n",
    "<p>Entities are the return type of a function.In this project the Entities are updated in the 01_data_ingestion.ipynb where we dataclasses to define the configuration of DataIngestion</p>"
   ]
  },
  {
   "cell_type": "markdown",
   "metadata": {},
   "source": [
    "<h3>Update the Configuration manager in src config</h3>\n",
    "<p>Configuration manager handles all the files path and source effeciently.In this project we have to handle the schema.yaml , config.yaml , params.yaml as these are the yaml file which holds tha path of the sources</p>\n",
    "<p>To load the yaml we may use the read_yaml function in the utils->common.py but the function takes the file path of these yaml files to read. Hence the files paths of the yaml files are stored in the constants folder using the constructor</p>\n",
    "<p>Create a class which act as a configuration manager and also define the function which handles the configuration for data ingestion</p>"
   ]
  },
  {
   "cell_type": "markdown",
   "metadata": {},
   "source": [
    "<p>What we done is created a class which returns a all the details about a the file paths required for the running of the project</p>"
   ]
  },
  {
   "cell_type": "markdown",
   "metadata": {},
   "source": [
    "<h2>Update the component</h2>\n",
    "<p>We should write the code which reads the dataset from the source and unzip the data and stores that in the local machine for the ddeveloping purpose</p>"
   ]
  },
  {
   "cell_type": "markdown",
   "metadata": {},
   "source": [
    "<p>So,we write a class DataIngestion which gets the parameter as config and download file is used to download the zip formatted dataset and a seperate function is used to unzip the dataset</p>"
   ]
  },
  {
   "cell_type": "markdown",
   "metadata": {},
   "source": [
    "<h2>Update the Pipeline</h2> \n",
    "<p>It's the structure or flow of the functions that are need to be executed in the while calling the application</p>"
   ]
  },
  {
   "cell_type": "markdown",
   "metadata": {},
   "source": [
    "<p>Once you read the pipeline you would come to understand the why we defined all these thing which are mentioned above . It tell's about the complete execution of the project</p>"
   ]
  },
  {
   "cell_type": "markdown",
   "metadata": {},
   "source": [
    "<!DOCTYPE html>\n",
    "<html lang=\"en\">\n",
    "<head>\n",
    "    <meta charset=\"UTF-8\">\n",
    "    <meta name=\"viewport\" content=\"width=device-width, initial-scale=1.0\">\n",
    "    <title>Pipeline Steps</title>\n",
    "</head>\n",
    "<body>\n",
    "    <h3>Steps defined in the pipeline</h3>\n",
    "    <ol>\n",
    "        <li>\n",
    "            We are calling the <strong>ConfigurationManager</strong> which will initialize all the contents of the schema, config, params in the form configbox.\n",
    "            <ol type=\"a\">\n",
    "                <li>\n",
    "                    All the file paths which are required for the initialization are defined in the constructor of the constants file.\n",
    "                </li>\n",
    "                <li>\n",
    "                    The <strong>get_data_ingestion_config</strong> reads the details about the <em>root_dir</em>, <em>source_url</em> etc. from the data_ingestion which is defined in the <code>config.yaml</code>. It returns the object which is initialized with all the attributes.\n",
    "                </li>\n",
    "            </ol>\n",
    "        </li>\n",
    "        <li>\n",
    "            We are calling <strong>get_data_ingestion_config</strong> which will return an object consisting of all the information such as <em>root_dir</em>, <em>source_url</em>, where the downloaded file is stored, and where the unzipped file is stored. The object is stored in the name of <code>data_ingestion_config</code>.\n",
    "        </li>\n",
    "        <li>\n",
    "            Then we are calling the <strong>DataIngestion</strong> class which will download the required zip file from GitHub using the <code>source.url</code>.\n",
    "        </li>\n",
    "        <li>\n",
    "            The <code>download_file</code> from the <strong>DataIngestion</strong> is used.\n",
    "        </li>\n",
    "        <li>\n",
    "            The downloaded file is unzipped using <code>extract_zip_file()</code>.\n",
    "        </li>\n",
    "    </ol>\n",
    "    <p>Once the code is runed it will create an folder named artifacts</p>\n",
    "</body>\n",
    "</html>\n"
   ]
  },
  {
   "cell_type": "markdown",
   "metadata": {},
   "source": []
  }
 ],
 "metadata": {
  "kernelspec": {
   "display_name": "Env",
   "language": "python",
   "name": "python3"
  },
  "language_info": {
   "codemirror_mode": {
    "name": "ipython",
    "version": 3
   },
   "file_extension": ".py",
   "mimetype": "text/x-python",
   "name": "python",
   "nbconvert_exporter": "python",
   "pygments_lexer": "ipython3",
   "version": "3.11.5"
  }
 },
 "nbformat": 4,
 "nbformat_minor": 2
}
